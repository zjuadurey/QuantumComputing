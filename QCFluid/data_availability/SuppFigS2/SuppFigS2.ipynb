{
 "cells": [
  {
   "cell_type": "code",
   "execution_count": 1,
   "metadata": {},
   "outputs": [],
   "source": [
    "import numpy as np\n",
    "import matplotlib as mpl\n",
    "import matplotlib.pyplot as plt\n",
    "import pandas as pd\n",
    "import pathlib\n",
    "\n",
    "data = pd.read_excel('SuppFigS2.xlsx')\n",
    "\n",
    "a4 = np.array([180, 297]) / 25.4\n",
    "fontsize=8\n",
    "\n",
    "mpl.rc('text', usetex=True)\n",
    "mpl.rc('text.latex', preamble=r'\\usepackage{amsmath}')\n",
    "plt.rcParams['font.family'] = 'serif'\n",
    "plt.rcParams['font.serif'] = 'Times New Roman'\n",
    "\n",
    "%matplotlib qt"
   ]
  },
  {
   "cell_type": "code",
   "execution_count": 2,
   "metadata": {},
   "outputs": [],
   "source": [
    "fig = plt.figure(figsize=[a4[0]/2, 2.1])\n",
    "ax1 = fig.add_axes([0.16, 0.16, 0.68, 0.8])\n",
    "ax1.plot(np.array(data['qubit_number']), np.array(data['memory(MB)'])/1000, color='C0', marker='o', label='Memory', markersize=5)\n",
    "# ax1.legend(loc=2, fontsize=fontsize)\n",
    "plt.xticks(fontsize=fontsize-1)\n",
    "plt.yticks(fontsize=fontsize-1)\n",
    "ax1.set_ylabel('Memory (GB)', fontsize=fontsize, color='C0')\n",
    "ax1.set_xlabel('Qubit number', fontsize=fontsize)\n",
    "plt.ylim(1, 1000)\n",
    "plt.yscale('log')\n",
    "\n",
    "ax2 = ax1.twinx()\n",
    "ax2.plot(data['qubit_number'], data['run_time(s)']/3600, color='C1', marker='s', label='Run time', markersize=5)\n",
    "ax2.plot([10, 12], [data['run_time(s)'][2]/3600, 24*10], color='C1', marker='s', markerfacecolor='None', ls='--', markersize=5)\n",
    "# ax2.legend(loc=2, bbox_to_anchor=(0.0, 0.85))\n",
    "ax2.set_ylabel('Run time (hour)', fontsize=fontsize, color='C1')\n",
    "plt.text(10.5, 24*10, '10 days', fontsize=fontsize+1, color='C1')\n",
    "plt.yticks(fontsize=fontsize-1)\n",
    "plt.ylim(0.1, 1000)\n",
    "plt.yscale('log')\n",
    "\n",
    "\n",
    "file_name = \"SuppFigS2_mpl.pdf\"\n",
    "plt.savefig(file_name,\n",
    "            dpi=600,\n",
    "            facecolor='None',\n",
    "            edgecolor='None',\n",
    "            orientation='portrait',\n",
    "            format=\"pdf\",\n",
    "            bbox_inches='tight')"
   ]
  }
 ],
 "metadata": {
  "kernelspec": {
   "display_name": "base",
   "language": "python",
   "name": "python3"
  },
  "language_info": {
   "codemirror_mode": {
    "name": "ipython",
    "version": 3
   },
   "file_extension": ".py",
   "mimetype": "text/x-python",
   "name": "python",
   "nbconvert_exporter": "python",
   "pygments_lexer": "ipython3",
   "version": "3.9.7"
  }
 },
 "nbformat": 4,
 "nbformat_minor": 2
}
