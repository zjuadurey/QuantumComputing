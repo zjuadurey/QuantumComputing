{
 "cells": [
  {
   "cell_type": "markdown",
   "id": "94894699",
   "metadata": {},
   "source": [
    "# generate circuit for time evolution\n",
    "\n",
    "## 描述\n",
    "\n",
    "添加一个参数，用以指定分别负责x、y维度的qubit序号\n",
    "\n",
    "输入是否启用shadow hamiltonian或任何其他优化\n",
    "\n",
    "输出对应的时间演化电路"
   ]
  },
  {
   "cell_type": "code",
   "execution_count": null,
   "id": "334354d0",
   "metadata": {
    "vscode": {
     "languageId": "plaintext"
    }
   },
   "outputs": [],
   "source": []
  }
 ],
 "metadata": {
  "language_info": {
   "name": "python"
  }
 },
 "nbformat": 4,
 "nbformat_minor": 5
}
