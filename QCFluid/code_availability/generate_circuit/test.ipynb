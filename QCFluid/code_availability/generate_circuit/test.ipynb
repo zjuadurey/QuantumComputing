{
 "cells": [
  {
   "cell_type": "markdown",
   "id": "94894699",
   "metadata": {},
   "source": [
    "# generate circuit for time evolution\n",
    "\n",
    "## 描述\n",
    "\n",
    "添加一个参数，用以指定分别负责x、y维度的qubit序号\n",
    "\n",
    "输入是否启用shadow hamiltonian或任何其他优化\n",
    "\n",
    "输出对应的时间演化电路"
   ]
  },
  {
   "cell_type": "code",
   "execution_count": 5,
   "id": "334354d0",
   "metadata": {},
   "outputs": [],
   "source": [
    "import numpy as np\n",
    "from qiskit import QuantumCircuit, transpile, qasm2\n",
    "from qiskit.circuit.library import QFT\n",
    "\n",
    "def generate_evolution_qasm(hamiltonian_type, t, n_x, n_y, output_file=\"evolution.qasm\"):\n",
    "    \"\"\"\n",
    "    生成时间演化电路的QASM文件\n",
    "    参数:\n",
    "        hamiltonian_type: 哈密顿量类型 ('free_particle' 或 'with_potential')\n",
    "        t: 演化时间\n",
    "        n_x: x方向量子比特数\n",
    "        n_y: y方向量子比特数\n",
    "        output_file: 输出QASM文件名\n",
    "    返回:\n",
    "        QASM字符串并保存文件\n",
    "    \"\"\"\n",
    "    n_total = n_x + n_y\n",
    "    qc = QuantumCircuit(n_total, name=f\"Evolution_t_{t}\")\n",
    "    \n",
    "    # 核心演化函数（自由粒子部分）\n",
    "    def add_free_evolution(qc, t, n_qubits, qubits):\n",
    "        \"\"\"添加自由粒子演化电路 (-∇²/2 部分)\"\"\"\n",
    "        # QFT\n",
    "        qft = QFT(num_qubits=n_qubits, inverse=False)\n",
    "        qc.append(qft, qubits)\n",
    "        \n",
    "        # 动量空间演化: e^{-i k^2 t/2}\n",
    "        # 注意：论文公式(4)的二进制权重实现\n",
    "        for i in range(n_qubits):\n",
    "            # 计算权重：2^{n_qubits - i - 1}\n",
    "            k_weight = 2**(n_qubits - i - 1)\n",
    "            # 相位旋转角度: -k^2 t/2\n",
    "            angle = - (k_weight**2) * t / 2\n",
    "            qc.rz(angle, qubits[i])\n",
    "        \n",
    "        # 逆QFT\n",
    "        qft_inv = QFT(num_qubits=n_qubits, inverse=True)\n",
    "        qc.append(qft_inv, qubits)\n",
    "    \n",
    "    # x方向演化\n",
    "    add_free_evolution(qc, t, n_x, qubits=range(n_x))\n",
    "    \n",
    "    # y方向演化\n",
    "    add_free_evolution(qc, t, n_y, qubits=range(n_x, n_x+n_y))\n",
    "    \n",
    "    # 势能项处理（如需）\n",
    "    if hamiltonian_type == 'with_potential':\n",
    "        raise NotImplementedError(\"势能项演化需特罗特分解，当前版本暂不支持\")\n",
    "        # 此处可扩展：qc.compose(add_potential_circuit(V, t), inplace=True)\n",
    "    \n",
    "    # 生成QASM\n",
    "    qasm_str = qasm2.dumps(qc)\n",
    "    \n",
    "    # 保存文件\n",
    "    with open(output_file, 'w') as f:\n",
    "        f.write(qasm_str)\n",
    "    \n",
    "    return qasm_str\n",
    "\n"
   ]
  },
  {
   "cell_type": "code",
   "execution_count": null,
   "id": "c7851936",
   "metadata": {},
   "outputs": [
    {
     "name": "stdout",
     "output_type": "stream",
     "text": [
      "QASM 电路已生成！关键门统计：\n",
      "- 总量子比特数: 10\n",
      "- QFT/逆QFT模块: 各2个 (x/y方向)\n",
      "- 相位旋转门(Rz): 20个\n"
     ]
    }
   ],
   "source": [
    "\n",
    "# 示例使用 ==============================================\n",
    "if __name__ == \"__main__\":\n",
    "    # 案例1：扩张流演化 (5x5网格，自由粒子)\n",
    "    qasm_output = generate_evolution_qasm(\n",
    "        hamiltonian_type='free_particle',\n",
    "        t=np.pi/2,  # 演化时间\n",
    "        n_x=5,      # x方向5量子比特 (32点)\n",
    "        n_y=5,      # y方向5量子比特 (32点)\n",
    "        output_file=\"diverging_flow_evolution.qasm\"\n",
    "    )\n",
    "    \n",
    "    print(\"QASM 电路已生成！关键门统计：\")\n",
    "    print(f\"- 总量子比特数: 10\")\n",
    "    print(f\"- QFT/逆QFT模块: 各2个 (x/y方向)\")\n",
    "    print(f\"- 相位旋转门(Rz): {5*2*2}个\")  # 每个方向5比特 * 2次QFT * 2方向"
   ]
  }
 ],
 "metadata": {
  "kernelspec": {
   "display_name": "qiskit",
   "language": "python",
   "name": "python3"
  },
  "language_info": {
   "codemirror_mode": {
    "name": "ipython",
    "version": 3
   },
   "file_extension": ".py",
   "mimetype": "text/x-python",
   "name": "python",
   "nbconvert_exporter": "python",
   "pygments_lexer": "ipython3",
   "version": "3.9.21"
  }
 },
 "nbformat": 4,
 "nbformat_minor": 5
}
