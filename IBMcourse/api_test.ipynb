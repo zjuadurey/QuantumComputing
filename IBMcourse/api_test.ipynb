{
 "cells": [
  {
   "cell_type": "code",
   "execution_count": 3,
   "metadata": {},
   "outputs": [],
   "source": [
    "  from qiskit_ibm_runtime import QiskitRuntimeService\n",
    "  service = QiskitRuntimeService.save_account(\n",
    "    token=\"9zpSF0CdywKgi538nNUf5w10qfbjj9hGqYbD1hOy2HGt\", # Your token is confidential.\n",
    "    # Do not share your key in public code.\n",
    "    instance=\"<IBM Cloud CRN>\",\n",
    "    name=\"<account-name>\", # Optionally name this set of account credentials.\n",
    "    set_as_default=True, # Optionally set these as your default credentials.\n",
    "  )\n",
    "\n"
   ]
  },
  {
   "cell_type": "code",
   "execution_count": 4,
   "metadata": {},
   "outputs": [
    {
     "ename": "CloudResourceNameResolutionError",
     "evalue": "'Failed to resolve CRN value for the provided service name <IBM Cloud CRN>.'",
     "output_type": "error",
     "traceback": [
      "\u001b[0;31m---------------------------------------------------------------------------\u001b[0m",
      "\u001b[0;31mCloudResourceNameResolutionError\u001b[0m          Traceback (most recent call last)",
      "Cell \u001b[0;32mIn[4], line 1\u001b[0m\n\u001b[0;32m----> 1\u001b[0m service \u001b[39m=\u001b[39m QiskitRuntimeService()\n",
      "File \u001b[0;32m~/.conda/envs/qiskit/lib/python3.9/site-packages/qiskit_ibm_runtime/qiskit_runtime_service.py:129\u001b[0m, in \u001b[0;36mQiskitRuntimeService.__init__\u001b[0;34m(self, channel, token, url, filename, name, instance, proxies, verify, private_endpoint, url_resolver)\u001b[0m\n\u001b[1;32m     78\u001b[0m \u001b[39m\u001b[39m\u001b[39m\"\"\"QiskitRuntimeService constructor\u001b[39;00m\n\u001b[1;32m     79\u001b[0m \n\u001b[1;32m     80\u001b[0m \u001b[39mAn account is selected in the following order:\u001b[39;00m\n\u001b[0;32m   (...)\u001b[0m\n\u001b[1;32m    125\u001b[0m \u001b[39m    IBMInputValueError: If an input is invalid.\u001b[39;00m\n\u001b[1;32m    126\u001b[0m \u001b[39m\"\"\"\u001b[39;00m\n\u001b[1;32m    127\u001b[0m \u001b[39msuper\u001b[39m()\u001b[39m.\u001b[39m\u001b[39m__init__\u001b[39m()\n\u001b[0;32m--> 129\u001b[0m \u001b[39mself\u001b[39m\u001b[39m.\u001b[39m_account \u001b[39m=\u001b[39m \u001b[39mself\u001b[39;49m\u001b[39m.\u001b[39;49m_discover_account(\n\u001b[1;32m    130\u001b[0m     token\u001b[39m=\u001b[39;49mtoken,\n\u001b[1;32m    131\u001b[0m     url\u001b[39m=\u001b[39;49murl,\n\u001b[1;32m    132\u001b[0m     instance\u001b[39m=\u001b[39;49minstance,\n\u001b[1;32m    133\u001b[0m     channel\u001b[39m=\u001b[39;49mchannel,\n\u001b[1;32m    134\u001b[0m     filename\u001b[39m=\u001b[39;49mfilename,\n\u001b[1;32m    135\u001b[0m     name\u001b[39m=\u001b[39;49mname,\n\u001b[1;32m    136\u001b[0m     proxies\u001b[39m=\u001b[39;49mProxyConfiguration(\u001b[39m*\u001b[39;49m\u001b[39m*\u001b[39;49mproxies) \u001b[39mif\u001b[39;49;00m proxies \u001b[39melse\u001b[39;49;00m \u001b[39mNone\u001b[39;49;00m,\n\u001b[1;32m    137\u001b[0m     verify\u001b[39m=\u001b[39;49mverify,\n\u001b[1;32m    138\u001b[0m )\n\u001b[1;32m    140\u001b[0m \u001b[39mif\u001b[39;00m private_endpoint \u001b[39mis\u001b[39;00m \u001b[39mnot\u001b[39;00m \u001b[39mNone\u001b[39;00m:\n\u001b[1;32m    141\u001b[0m     \u001b[39mself\u001b[39m\u001b[39m.\u001b[39m_account\u001b[39m.\u001b[39mprivate_endpoint \u001b[39m=\u001b[39m private_endpoint\n",
      "File \u001b[0;32m~/.conda/envs/qiskit/lib/python3.9/site-packages/qiskit_ibm_runtime/qiskit_runtime_service.py:252\u001b[0m, in \u001b[0;36mQiskitRuntimeService._discover_account\u001b[0;34m(self, token, url, instance, channel, filename, name, proxies, verify)\u001b[0m\n\u001b[1;32m    249\u001b[0m     account\u001b[39m.\u001b[39mverify \u001b[39m=\u001b[39m verify\n\u001b[1;32m    251\u001b[0m \u001b[39m# resolve CRN if needed\u001b[39;00m\n\u001b[0;32m--> 252\u001b[0m \u001b[39mself\u001b[39;49m\u001b[39m.\u001b[39;49m_resolve_crn(account)\n\u001b[1;32m    254\u001b[0m \u001b[39m# ensure account is valid, fail early if not\u001b[39;00m\n\u001b[1;32m    255\u001b[0m account\u001b[39m.\u001b[39mvalidate()\n",
      "File \u001b[0;32m~/.conda/envs/qiskit/lib/python3.9/site-packages/qiskit_ibm_runtime/qiskit_runtime_service.py:268\u001b[0m, in \u001b[0;36mQiskitRuntimeService._resolve_crn\u001b[0;34m(self, account)\u001b[0m\n\u001b[1;32m    267\u001b[0m \u001b[39mdef\u001b[39;00m\u001b[39m \u001b[39m\u001b[39m_resolve_crn\u001b[39m(\u001b[39mself\u001b[39m, account: Account) \u001b[39m-\u001b[39m\u001b[39m>\u001b[39m \u001b[39mNone\u001b[39;00m:\n\u001b[0;32m--> 268\u001b[0m     account\u001b[39m.\u001b[39;49mresolve_crn()\n",
      "File \u001b[0;32m~/.conda/envs/qiskit/lib/python3.9/site-packages/qiskit_ibm_runtime/accounts/account.py:293\u001b[0m, in \u001b[0;36mCloudAccount.resolve_crn\u001b[0;34m(self)\u001b[0m\n\u001b[1;32m    286\u001b[0m crn \u001b[39m=\u001b[39m resolve_crn(\n\u001b[1;32m    287\u001b[0m     channel\u001b[39m=\u001b[39m\u001b[39m\"\u001b[39m\u001b[39mibm_cloud\u001b[39m\u001b[39m\"\u001b[39m,\n\u001b[1;32m    288\u001b[0m     url\u001b[39m=\u001b[39m\u001b[39mself\u001b[39m\u001b[39m.\u001b[39murl,\n\u001b[1;32m    289\u001b[0m     token\u001b[39m=\u001b[39m\u001b[39mself\u001b[39m\u001b[39m.\u001b[39mtoken,\n\u001b[1;32m    290\u001b[0m     instance\u001b[39m=\u001b[39m\u001b[39mself\u001b[39m\u001b[39m.\u001b[39minstance,\n\u001b[1;32m    291\u001b[0m )\n\u001b[1;32m    292\u001b[0m \u001b[39mif\u001b[39;00m \u001b[39mlen\u001b[39m(crn) \u001b[39m==\u001b[39m \u001b[39m0\u001b[39m:\n\u001b[0;32m--> 293\u001b[0m     \u001b[39mraise\u001b[39;00m CloudResourceNameResolutionError(\n\u001b[1;32m    294\u001b[0m         \u001b[39mf\u001b[39m\u001b[39m\"\u001b[39m\u001b[39mFailed to resolve CRN value for the provided service name \u001b[39m\u001b[39m{\u001b[39;00m\u001b[39mself\u001b[39m\u001b[39m.\u001b[39minstance\u001b[39m}\u001b[39;00m\u001b[39m.\u001b[39m\u001b[39m\"\u001b[39m\n\u001b[1;32m    295\u001b[0m     )\n\u001b[1;32m    296\u001b[0m \u001b[39mif\u001b[39;00m \u001b[39mlen\u001b[39m(crn) \u001b[39m>\u001b[39m \u001b[39m1\u001b[39m:\n\u001b[1;32m    297\u001b[0m     \u001b[39m# handle edge-case where multiple service instances with the same name exist\u001b[39;00m\n\u001b[1;32m    298\u001b[0m     logger\u001b[39m.\u001b[39mwarning(\n\u001b[1;32m    299\u001b[0m         \u001b[39m\"\u001b[39m\u001b[39mMultiple CRN values found for service name \u001b[39m\u001b[39m%s\u001b[39;00m\u001b[39m: \u001b[39m\u001b[39m%s\u001b[39;00m\u001b[39m. Using \u001b[39m\u001b[39m%s\u001b[39;00m\u001b[39m.\u001b[39m\u001b[39m\"\u001b[39m,\n\u001b[1;32m    300\u001b[0m         \u001b[39mself\u001b[39m\u001b[39m.\u001b[39minstance,\n\u001b[1;32m    301\u001b[0m         crn,\n\u001b[1;32m    302\u001b[0m         crn[\u001b[39m0\u001b[39m],\n\u001b[1;32m    303\u001b[0m     )\n",
      "\u001b[0;31mCloudResourceNameResolutionError\u001b[0m: 'Failed to resolve CRN value for the provided service name <IBM Cloud CRN>.'"
     ]
    }
   ],
   "source": [
    "service = QiskitRuntimeService()"
   ]
  }
 ],
 "metadata": {
  "kernelspec": {
   "display_name": "qiskit",
   "language": "python",
   "name": "python3"
  },
  "language_info": {
   "name": "python",
   "version": "3.9.22"
  },
  "orig_nbformat": 4
 },
 "nbformat": 4,
 "nbformat_minor": 2
}
