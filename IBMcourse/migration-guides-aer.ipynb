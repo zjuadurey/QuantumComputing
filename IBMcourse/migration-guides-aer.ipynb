{
 "cells": [
  {
   "cell_type": "code",
   "execution_count": 2,
   "metadata": {},
   "outputs": [],
   "source": [
    "from qiskit_aer import AerSimulator\n",
    "from qiskit.circuit.library import RealAmplitudes\n",
    "from qiskit.circuit import QuantumCircuit\n",
    "from qiskit.transpiler.preset_passmanagers import generate_preset_pass_manager\n",
    "from qiskit_ibm_runtime import SamplerV2 as Sampler  # 本地模式仍需要此Sampler"
   ]
  },
  {
   "cell_type": "code",
   "execution_count": 5,
   "metadata": {},
   "outputs": [
    {
     "ename": "TypeError",
     "evalue": "__init__() got an unexpected keyword argument 'backend'",
     "output_type": "error",
     "traceback": [
      "\u001b[0;31m---------------------------------------------------------------------------\u001b[0m",
      "\u001b[0;31mTypeError\u001b[0m                                 Traceback (most recent call last)",
      "Cell \u001b[0;32mIn[5], line 13\u001b[0m\n\u001b[1;32m     10\u001b[0m isa_qc \u001b[38;5;241m=\u001b[39m pm\u001b[38;5;241m.\u001b[39mrun(qc)  \u001b[38;5;66;03m# 通过pass manager优化电路\u001b[39;00m\n\u001b[1;32m     12\u001b[0m \u001b[38;5;66;03m# 直接使用Sampler（无需Session）\u001b[39;00m\n\u001b[0;32m---> 13\u001b[0m sampler \u001b[38;5;241m=\u001b[39m \u001b[43mSampler\u001b[49m\u001b[43m(\u001b[49m\u001b[43mbackend\u001b[49m\u001b[38;5;241;43m=\u001b[39;49m\u001b[43maer_sim\u001b[49m\u001b[43m)\u001b[49m\n\u001b[1;32m     14\u001b[0m result \u001b[38;5;241m=\u001b[39m sampler\u001b[38;5;241m.\u001b[39mrun([isa_qc])\u001b[38;5;241m.\u001b[39mresult()\n",
      "\u001b[0;31mTypeError\u001b[0m: __init__() got an unexpected keyword argument 'backend'"
     ]
    }
   ],
   "source": [
    "# 创建贝尔电路\n",
    "qc = QuantumCircuit(2)\n",
    "qc.h(0)\n",
    "qc.cx(0, 1)\n",
    "qc.measure_all()\n",
    "\n",
    "# 配置Aer模拟器\n",
    "aer_sim = AerSimulator()\n",
    "pm = generate_preset_pass_manager(backend=aer_sim, optimization_level=1)\n",
    "isa_qc = pm.run(qc)  # 通过pass manager优化电路\n",
    "\n",
    "# 直接使用Sampler（无需Session）\n",
    "sampler = Sampler(backend=aer_sim)\n",
    "result = sampler.run([isa_qc]).result()"
   ]
  },
  {
   "cell_type": "code",
   "execution_count": 7,
   "metadata": {},
   "outputs": [
    {
     "name": "stdout",
     "output_type": "stream",
     "text": [
      "0.39.0\n",
      "<class 'qiskit_ibm_runtime.sampler.SamplerV2'>\n"
     ]
    }
   ],
   "source": [
    "# 检查版本兼容性（需满足最低版本）\n",
    "import qiskit_ibm_runtime\n",
    "print(qiskit_ibm_runtime.__version__)  # 需 ≥ 0.23.0\n",
    "print(qiskit_ibm_runtime.SamplerV2)    # 确认类存在\n"
   ]
  },
  {
   "cell_type": "code",
   "execution_count": 8,
   "metadata": {},
   "outputs": [
    {
     "ename": "AttributeError",
     "evalue": "'AerSimulator' object has no attribute 'status'",
     "output_type": "error",
     "traceback": [
      "\u001b[0;31m---------------------------------------------------------------------------\u001b[0m",
      "\u001b[0;31mAttributeError\u001b[0m                            Traceback (most recent call last)",
      "Cell \u001b[0;32mIn[8], line 2\u001b[0m\n\u001b[1;32m      1\u001b[0m \u001b[38;5;66;03m# 1. 显式打印后端信息\u001b[39;00m\n\u001b[0;32m----> 2\u001b[0m \u001b[38;5;28mprint\u001b[39m(\u001b[38;5;124mf\u001b[39m\u001b[38;5;124m\"\u001b[39m\u001b[38;5;124mAerSimulator 状态: \u001b[39m\u001b[38;5;132;01m{\u001b[39;00maer_sim\u001b[38;5;241m.\u001b[39mstatus()\u001b[38;5;132;01m}\u001b[39;00m\u001b[38;5;124m\"\u001b[39m) \n\u001b[1;32m      4\u001b[0m \u001b[38;5;66;03m# 2. 强制验证后端可用性\u001b[39;00m\n\u001b[1;32m      5\u001b[0m \u001b[38;5;28;01mfrom\u001b[39;00m\u001b[38;5;250m \u001b[39m\u001b[38;5;21;01mqiskit_ibm_runtime\u001b[39;00m\u001b[38;5;250m \u001b[39m\u001b[38;5;28;01mimport\u001b[39;00m QiskitRuntimeService\n",
      "\u001b[0;31mAttributeError\u001b[0m: 'AerSimulator' object has no attribute 'status'"
     ]
    }
   ],
   "source": [
    "# 1. 显式打印后端信息\n",
    "print(f\"AerSimulator 状态: {aer_sim.status()}\") \n",
    "\n",
    "# 2. 强制验证后端可用性\n",
    "from qiskit_ibm_runtime import QiskitRuntimeService\n",
    "local_service = QiskitRuntimeService(local=True)  # 关键！启用本地模式\n",
    "sampler = Sampler(backend=aer_sim, service=local_service)\n"
   ]
  },
  {
   "cell_type": "code",
   "execution_count": 25,
   "metadata": {},
   "outputs": [
    {
     "name": "stdout",
     "output_type": "stream",
     "text": [
      "Counts(ideal): {'111': 58, '000': 70}\n"
     ]
    }
   ],
   "source": [
    "import qiskit\n",
    "from qiskit_aer.primitives import SamplerV2\n",
    "\n",
    "# Generate 3-qubit GHZ state\n",
    "circ = qiskit.QuantumCircuit(3)\n",
    "circ.h(0)\n",
    "circ.cx(0, 1)\n",
    "circ.cx(1, 2)\n",
    "circ.measure_all()\n",
    "\n",
    "# Construct an ideal simulator with SamplerV2\n",
    "sampler = SamplerV2()\n",
    "job = sampler.run([circ], shots=128)\n",
    "\n",
    "# Perform an ideal simulation\n",
    "result_ideal = job.result()\n",
    "counts_ideal = result_ideal[0].data.meas.get_counts()\n",
    "print('Counts(ideal):', counts_ideal)"
   ]
  },
  {
   "cell_type": "code",
   "execution_count": 27,
   "metadata": {},
   "outputs": [
    {
     "name": "stdout",
     "output_type": "stream",
     "text": [
      "('automatic', 'statevector', 'density_matrix', 'stabilizer', 'matrix_product_state', 'extended_stabilizer', 'unitary', 'superop')\n"
     ]
    }
   ],
   "source": [
    "# 检查 Aer 是否可用\n",
    "from qiskit_aer import AerSimulator\n",
    "print(AerSimulator().available_methods())  # 应输出模拟器支持的方法\n",
    "\n",
    "# 输出示例：\n",
    "# ['automatic', 'statevector', 'density_matrix', 'stabilizer', 'extended_stabilizer', 'matrix_product_state', 'unitary', 'superop', 'tensor_network']\n"
   ]
  },
  {
   "cell_type": "code",
   "execution_count": 28,
   "metadata": {},
   "outputs": [
    {
     "name": "stdout",
     "output_type": "stream",
     "text": [
      "{'11': 504, '00': 496}\n"
     ]
    }
   ],
   "source": [
    "from qiskit import QuantumCircuit\n",
    "from qiskit_aer import AerSimulator\n",
    "\n",
    "# 创建电路\n",
    "qc = QuantumCircuit(2)\n",
    "qc.h(0)\n",
    "qc.cx(0, 1)\n",
    "qc.measure_all()\n",
    "\n",
    "# 使用 Aer 模拟器运行\n",
    "sim = AerSimulator()\n",
    "result = sim.run(qc, shots=1000).result()\n",
    "print(result.get_counts())  # 输出类似 {'00': 500, '11': 500}\n"
   ]
  }
 ],
 "metadata": {
  "kernelspec": {
   "display_name": "qiskit",
   "language": "python",
   "name": "python3"
  },
  "language_info": {
   "codemirror_mode": {
    "name": "ipython",
    "version": 3
   },
   "file_extension": ".py",
   "mimetype": "text/x-python",
   "name": "python",
   "nbconvert_exporter": "python",
   "pygments_lexer": "ipython3",
   "version": "3.9.21"
  }
 },
 "nbformat": 4,
 "nbformat_minor": 2
}
