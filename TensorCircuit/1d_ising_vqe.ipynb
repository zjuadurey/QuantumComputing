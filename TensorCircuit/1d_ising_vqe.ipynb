{
 "cells": [
  {
   "cell_type": "code",
   "execution_count": 11,
   "metadata": {},
   "outputs": [
    {
     "ename": "AttributeError",
     "evalue": "module 'numpy' has no attribute 'ComplexWarning'",
     "output_type": "error",
     "traceback": [
      "\u001b[0;31m---------------------------------------------------------------------------\u001b[0m",
      "\u001b[0;31mAttributeError\u001b[0m                            Traceback (most recent call last)",
      "Cell \u001b[0;32mIn[11], line 9\u001b[0m\n\u001b[1;32m      7\u001b[0m config\u001b[39m.\u001b[39mupdate(\u001b[39m\"\u001b[39m\u001b[39mjax_enable_x64\u001b[39m\u001b[39m\"\u001b[39m, \u001b[39mTrue\u001b[39;00m)\n\u001b[1;32m      8\u001b[0m \u001b[39mfrom\u001b[39;00m\u001b[39m \u001b[39m\u001b[39mjax\u001b[39;00m\u001b[39m \u001b[39m\u001b[39mimport\u001b[39;00m numpy \u001b[39mas\u001b[39;00m jnp\n\u001b[0;32m----> 9\u001b[0m \u001b[39mimport\u001b[39;00m\u001b[39m \u001b[39m\u001b[39mtensorcircuit\u001b[39;00m\u001b[39m \u001b[39m\u001b[39mas\u001b[39;00m\u001b[39m \u001b[39m\u001b[39mtc\u001b[39;00m\n",
      "File \u001b[0;32m~/.conda/envs/TensorCircuit/lib/python3.10/site-packages/tensorcircuit/__init__.py:10\u001b[0m\n\u001b[1;32m      7\u001b[0m gpu_memory_share()\n\u001b[1;32m      9\u001b[0m \u001b[39mfrom\u001b[39;00m\u001b[39m \u001b[39m\u001b[39m.\u001b[39;00m\u001b[39mabout\u001b[39;00m\u001b[39m \u001b[39m\u001b[39mimport\u001b[39;00m about\n\u001b[0;32m---> 10\u001b[0m \u001b[39mfrom\u001b[39;00m\u001b[39m \u001b[39m\u001b[39m.\u001b[39;00m\u001b[39mcons\u001b[39;00m\u001b[39m \u001b[39m\u001b[39mimport\u001b[39;00m (\n\u001b[1;32m     11\u001b[0m     backend,\n\u001b[1;32m     12\u001b[0m     set_backend,\n\u001b[1;32m     13\u001b[0m     set_dtype,\n\u001b[1;32m     14\u001b[0m     set_contractor,\n\u001b[1;32m     15\u001b[0m     get_backend,\n\u001b[1;32m     16\u001b[0m     get_dtype,\n\u001b[1;32m     17\u001b[0m     get_contractor,\n\u001b[1;32m     18\u001b[0m     set_function_backend,\n\u001b[1;32m     19\u001b[0m     set_function_dtype,\n\u001b[1;32m     20\u001b[0m     set_function_contractor,\n\u001b[1;32m     21\u001b[0m     runtime_backend,\n\u001b[1;32m     22\u001b[0m     runtime_dtype,\n\u001b[1;32m     23\u001b[0m     runtime_contractor,\n\u001b[1;32m     24\u001b[0m )  \u001b[39m# prerun of set hooks\u001b[39;00m\n\u001b[1;32m     25\u001b[0m \u001b[39mfrom\u001b[39;00m\u001b[39m \u001b[39m\u001b[39m.\u001b[39;00m\u001b[39m \u001b[39m\u001b[39mimport\u001b[39;00m gates\n\u001b[1;32m     26\u001b[0m \u001b[39mfrom\u001b[39;00m\u001b[39m \u001b[39m\u001b[39m.\u001b[39;00m\u001b[39m \u001b[39m\u001b[39mimport\u001b[39;00m basecircuit\n",
      "File \u001b[0;32m~/.conda/envs/TensorCircuit/lib/python3.10/site-packages/tensorcircuit/cons.py:182\u001b[0m\n\u001b[1;32m    177\u001b[0m     \u001b[39mreturn\u001b[39;00m dtype, rdtype\n\u001b[1;32m    180\u001b[0m get_dtype \u001b[39m=\u001b[39m partial(set_dtype, set_global\u001b[39m=\u001b[39m\u001b[39mFalse\u001b[39;00m)\n\u001b[0;32m--> 182\u001b[0m set_dtype()\n\u001b[1;32m    185\u001b[0m \u001b[39mdef\u001b[39;00m\u001b[39m \u001b[39m\u001b[39mset_function_dtype\u001b[39m(dtype: Optional[\u001b[39mstr\u001b[39m] \u001b[39m=\u001b[39m \u001b[39mNone\u001b[39;00m) \u001b[39m-\u001b[39m\u001b[39m>\u001b[39m Callable[\u001b[39m.\u001b[39m\u001b[39m.\u001b[39m\u001b[39m.\u001b[39m, Any]:\n\u001b[1;32m    186\u001b[0m \u001b[39m    \u001b[39m\u001b[39m\"\"\"\u001b[39;00m\n\u001b[1;32m    187\u001b[0m \u001b[39m    Function decorator to set function-level numerical dtype\u001b[39;00m\n\u001b[1;32m    188\u001b[0m \n\u001b[0;32m   (...)\u001b[0m\n\u001b[1;32m    192\u001b[0m \u001b[39m    :rtype: Callable[..., Any]\u001b[39;00m\n\u001b[1;32m    193\u001b[0m \u001b[39m    \"\"\"\u001b[39;00m\n",
      "File \u001b[0;32m~/.conda/envs/TensorCircuit/lib/python3.10/site-packages/tensorcircuit/cons.py:174\u001b[0m, in \u001b[0;36mset_dtype\u001b[0;34m(dtype, set_global)\u001b[0m\n\u001b[1;32m    171\u001b[0m             \u001b[39msetattr\u001b[39m(sys\u001b[39m.\u001b[39mmodules[module], \u001b[39m\"\u001b[39m\u001b[39mrdtypestr\u001b[39m\u001b[39m\"\u001b[39m, rdtype)\n\u001b[1;32m    172\u001b[0m             \u001b[39msetattr\u001b[39m(sys\u001b[39m.\u001b[39mmodules[module], \u001b[39m\"\u001b[39m\u001b[39mnpdtype\u001b[39m\u001b[39m\"\u001b[39m, npdtype)\n\u001b[0;32m--> 174\u001b[0m     \u001b[39mfrom\u001b[39;00m\u001b[39m \u001b[39m\u001b[39m.\u001b[39;00m\u001b[39mgates\u001b[39;00m\u001b[39m \u001b[39m\u001b[39mimport\u001b[39;00m meta_gate\n\u001b[1;32m    176\u001b[0m     meta_gate()\n\u001b[1;32m    177\u001b[0m \u001b[39mreturn\u001b[39;00m dtype, rdtype\n",
      "File \u001b[0;32m~/.conda/envs/TensorCircuit/lib/python3.10/site-packages/tensorcircuit/gates.py:396\u001b[0m\n\u001b[1;32m    392\u001b[0m     \u001b[39mwith\u001b[39;00m runtime_backend(\u001b[39m\"\u001b[39m\u001b[39mnumpy\u001b[39m\u001b[39m\"\u001b[39m):  \u001b[39m# backward compatibility\u001b[39;00m\n\u001b[1;32m    393\u001b[0m         \u001b[39msetattr\u001b[39m(thismodule, \u001b[39m\"\u001b[39m\u001b[39mpauli_gates\u001b[39m\u001b[39m\"\u001b[39m, [i(), x(), y(), z()])  \u001b[39m# type: ignore\u001b[39;00m\n\u001b[0;32m--> 396\u001b[0m meta_gate()\n\u001b[1;32m    398\u001b[0m pauli_gates \u001b[39m=\u001b[39m [i(), x(), y(), z()]  \u001b[39m# type: ignore\u001b[39;00m\n\u001b[1;32m    401\u001b[0m \u001b[39mdef\u001b[39;00m\u001b[39m \u001b[39m\u001b[39mmatrix_for_gate\u001b[39m(gate: Gate, tol: \u001b[39mfloat\u001b[39m \u001b[39m=\u001b[39m \u001b[39m1e-6\u001b[39m) \u001b[39m-\u001b[39m\u001b[39m>\u001b[39m Tensor:\n",
      "File \u001b[0;32m~/.conda/envs/TensorCircuit/lib/python3.10/site-packages/tensorcircuit/gates.py:393\u001b[0m, in \u001b[0;36mmeta_gate\u001b[0;34m()\u001b[0m\n\u001b[1;32m    390\u001b[0m         \u001b[39msetattr\u001b[39m(thismodule, n, temp)\n\u001b[1;32m    392\u001b[0m \u001b[39mwith\u001b[39;00m runtime_backend(\u001b[39m\"\u001b[39m\u001b[39mnumpy\u001b[39m\u001b[39m\"\u001b[39m):  \u001b[39m# backward compatibility\u001b[39;00m\n\u001b[0;32m--> 393\u001b[0m     \u001b[39msetattr\u001b[39m(thismodule, \u001b[39m\"\u001b[39m\u001b[39mpauli_gates\u001b[39m\u001b[39m\"\u001b[39m, [i(), x(), y(), z()])\n",
      "File \u001b[0;32m~/.conda/envs/TensorCircuit/lib/python3.10/site-packages/tensorcircuit/gates.py:259\u001b[0m, in \u001b[0;36mGateF.__call__\u001b[0;34m(self, *args, **kws)\u001b[0m\n\u001b[1;32m    258\u001b[0m \u001b[39mdef\u001b[39;00m\u001b[39m \u001b[39m\u001b[39m__call__\u001b[39m(\u001b[39mself\u001b[39m, \u001b[39m*\u001b[39margs: Any, \u001b[39m*\u001b[39m\u001b[39m*\u001b[39mkws: Any) \u001b[39m-\u001b[39m\u001b[39m>\u001b[39m Gate:\n\u001b[0;32m--> 259\u001b[0m     m1 \u001b[39m=\u001b[39m array_to_tensor(\u001b[39mself\u001b[39;49m\u001b[39m.\u001b[39;49mm)\n\u001b[1;32m    260\u001b[0m     \u001b[39m# m = backend.cast(m, dtypestr)\u001b[39;00m\n\u001b[1;32m    261\u001b[0m     m1 \u001b[39m=\u001b[39m backend\u001b[39m.\u001b[39mcast(m1, dtypestr)\n",
      "File \u001b[0;32m~/.conda/envs/TensorCircuit/lib/python3.10/site-packages/tensorcircuit/gates.py:232\u001b[0m, in \u001b[0;36mnum_to_tensor\u001b[0;34m(dtype, *num)\u001b[0m\n\u001b[1;32m    230\u001b[0m         l\u001b[39m.\u001b[39mappend(backend\u001b[39m.\u001b[39mcast(backend\u001b[39m.\u001b[39mconvert_to_tensor(n), dtype\u001b[39m=\u001b[39mdtype))\n\u001b[1;32m    231\u001b[0m     \u001b[39melse\u001b[39;00m:\n\u001b[0;32m--> 232\u001b[0m         l\u001b[39m.\u001b[39mappend(backend\u001b[39m.\u001b[39;49mcast(n, dtype\u001b[39m=\u001b[39;49mdtype))\n\u001b[1;32m    233\u001b[0m \u001b[39mif\u001b[39;00m \u001b[39mlen\u001b[39m(l) \u001b[39m==\u001b[39m \u001b[39m1\u001b[39m:\n\u001b[1;32m    234\u001b[0m     \u001b[39mreturn\u001b[39;00m l[\u001b[39m0\u001b[39m]\n",
      "File \u001b[0;32m~/.conda/envs/TensorCircuit/lib/python3.10/site-packages/tensorcircuit/backends/numpy_backend.py:217\u001b[0m, in \u001b[0;36mNumpyBackend.cast\u001b[0;34m(self, a, dtype)\u001b[0m\n\u001b[1;32m    215\u001b[0m \u001b[39mdef\u001b[39;00m\u001b[39m \u001b[39m\u001b[39mcast\u001b[39m(\u001b[39mself\u001b[39m, a: Tensor, dtype: \u001b[39mstr\u001b[39m) \u001b[39m-\u001b[39m\u001b[39m>\u001b[39m Tensor:\n\u001b[1;32m    216\u001b[0m     \u001b[39mwith\u001b[39;00m warnings\u001b[39m.\u001b[39mcatch_warnings():\n\u001b[0;32m--> 217\u001b[0m         warnings\u001b[39m.\u001b[39msimplefilter(\u001b[39m\"\u001b[39m\u001b[39mignore\u001b[39m\u001b[39m\"\u001b[39m, np\u001b[39m.\u001b[39;49mComplexWarning)\n\u001b[1;32m    218\u001b[0m         \u001b[39mif\u001b[39;00m \u001b[39misinstance\u001b[39m(dtype, \u001b[39mstr\u001b[39m):\n\u001b[1;32m    219\u001b[0m             \u001b[39mreturn\u001b[39;00m a\u001b[39m.\u001b[39mastype(\u001b[39mgetattr\u001b[39m(np, dtype))\n",
      "File \u001b[0;32m~/.conda/envs/TensorCircuit/lib/python3.10/site-packages/numpy/__init__.py:414\u001b[0m, in \u001b[0;36m__getattr__\u001b[0;34m(attr)\u001b[0m\n\u001b[1;32m    411\u001b[0m     \u001b[39mimport\u001b[39;00m\u001b[39m \u001b[39m\u001b[39mnumpy\u001b[39;00m\u001b[39m.\u001b[39;00m\u001b[39mchar\u001b[39;00m\u001b[39m \u001b[39m\u001b[39mas\u001b[39;00m\u001b[39m \u001b[39m\u001b[39mchar\u001b[39;00m\n\u001b[1;32m    412\u001b[0m     \u001b[39mreturn\u001b[39;00m char\u001b[39m.\u001b[39mchararray\n\u001b[0;32m--> 414\u001b[0m \u001b[39mraise\u001b[39;00m \u001b[39mAttributeError\u001b[39;00m(\u001b[39m\"\u001b[39m\u001b[39mmodule \u001b[39m\u001b[39m{!r}\u001b[39;00m\u001b[39m has no attribute \u001b[39m\u001b[39m\"\u001b[39m\n\u001b[1;32m    415\u001b[0m                      \u001b[39m\"\u001b[39m\u001b[39m{!r}\u001b[39;00m\u001b[39m\"\u001b[39m\u001b[39m.\u001b[39mformat(\u001b[39m__name__\u001b[39m, attr))\n",
      "\u001b[0;31mAttributeError\u001b[0m: module 'numpy' has no attribute 'ComplexWarning'"
     ]
    }
   ],
   "source": [
    "from functools import partial\n",
    "import numpy as np\n",
    "import tensorflow as tf\n",
    "import jax\n",
    "from jax import config\n",
    "\n",
    "config.update(\"jax_enable_x64\", True)\n",
    "from jax import numpy as jnp\n",
    "import tensorcircuit as tc"
   ]
  }
 ],
 "metadata": {
  "kernelspec": {
   "display_name": "TorchQuantum",
   "language": "python",
   "name": "python3"
  },
  "language_info": {
   "codemirror_mode": {
    "name": "ipython",
    "version": 3
   },
   "file_extension": ".py",
   "mimetype": "text/x-python",
   "name": "python",
   "nbconvert_exporter": "python",
   "pygments_lexer": "ipython3",
   "version": "3.9.22"
  },
  "orig_nbformat": 4
 },
 "nbformat": 4,
 "nbformat_minor": 2
}
